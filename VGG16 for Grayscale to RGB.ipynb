{
 "cells": [
  {
   "cell_type": "code",
   "execution_count": 6,
   "metadata": {},
   "outputs": [],
   "source": [
    "import pandas as pd\n",
    "import numpy as np\n",
    "import matplotlib.pyplot as plt\n",
    "from skimage.io import imread, imshow\n",
    "from skimage.color import rgb2lab, lab2rgb, gray2rgb\n",
    "from skimage.transform import resize\n",
    "import tensorflow as tf\n",
    "from tensorflow.keras.preprocessing.image import ImageDataGenerator, img_to_array, load_img\n",
    "from keras.models import Sequential, Model\n",
    "from keras.layers import Conv2D, Conv3D, UpSampling2D, InputLayer, Conv2DTranspose, Input, Reshape, concatenate\n",
    "from keras.layers import Activation, Dense, Dropout, Flatten\n",
    "from tensorflow.keras.optimizers import Adam\n",
    "import warnings\n",
    "warnings.simplefilter(action='ignore', category=FutureWarning)"
   ]
  },
  {
   "cell_type": "code",
   "execution_count": 16,
   "metadata": {},
   "outputs": [],
   "source": [
    "train_path = r'C:\\Users\\Divyam Chandak\\Desktop\\raw_rgb_gray\\grayscale_pngs'"
   ]
  },
  {
   "cell_type": "code",
   "execution_count": 17,
   "metadata": {},
   "outputs": [],
   "source": [
    "train_datagen = ImageDataGenerator(rescale = 1/255, rotation_range = 50, horizontal_flip= True, vertical_flip = True)"
   ]
  },
  {
   "cell_type": "code",
   "execution_count": 18,
   "metadata": {},
   "outputs": [
    {
     "name": "stdout",
     "output_type": "stream",
     "text": [
      "Found 0 images belonging to 1 classes.\n"
     ]
    }
   ],
   "source": [
    "train_data = train_datagen.flow_from_directory(\n",
    "    directory=train_path,\n",
    "    target_size=(256, 256),\n",
    "    batch_size=256,\n",
    "    shuffle=True,\n",
    "    class_mode=None,           # For unlabeled grayscale images\n",
    "    color_mode='grayscale'     # VERY important for your use case\n",
    ")"
   ]
  },
  {
   "cell_type": "code",
   "execution_count": 22,
   "metadata": {},
   "outputs": [
    {
     "name": "stdout",
     "output_type": "stream",
     "text": [
      "(0, 256, 256, 1)\n"
     ]
    }
   ],
   "source": [
    "train_batch = next(train_data)\n",
    "print(train_batch.shape)  # (batch_size, 256, 256, 1)\n"
   ]
  },
  {
   "cell_type": "code",
   "execution_count": null,
   "metadata": {},
   "outputs": [],
   "source": [
    "X = []\n",
    "Y = []\n",
    "\n",
    "for i, img in enumerate(train_data):\n",
    "    try:\n",
    "        # Ensure float input\n",
    "        img = img.astype(np.float64) / 255.0\n",
    "\n",
    "        # Convert grayscale (H, W, 1) → RGB (H, W, 3)\n",
    "        img_rgb = gray2rgb(img)\n",
    "\n",
    "        # Convert RGB → LAB\n",
    "        lab = rgb2lab(img_rgb)\n",
    "\n",
    "        # Separate channels\n",
    "        X.append(lab[:, :, 0])           # L\n",
    "        Y.append(lab[:, :, 1:] / 128)    # AB normalized\n",
    "    except Exception as e:\n",
    "        print(f\"error at index {i}:\", e)\n"
   ]
  },
  {
   "cell_type": "code",
   "execution_count": null,
   "metadata": {},
   "outputs": [],
   "source": [
    "X_train = np.array(X)\n",
    "X_train = X_train.reshape(X_train.shape+(1,))\n",
    "\n",
    "y_train = np.array(Y)"
   ]
  },
  {
   "cell_type": "code",
   "execution_count": null,
   "metadata": {},
   "outputs": [
    {
     "name": "stdout",
     "output_type": "stream",
     "text": [
      "(256, 256, 256, 1)\n",
      "(256, 256, 256, 2)\n"
     ]
    }
   ],
   "source": [
    "print(X_train.shape)\n",
    "print(y_train.shape)"
   ]
  },
  {
   "cell_type": "code",
   "execution_count": null,
   "metadata": {},
   "outputs": [],
   "source": [
    "vggmodel = tf.keras.applications.vgg16.VGG16(include_top=False, input_shape=(256, 256, 3))"
   ]
  },
  {
   "cell_type": "code",
   "execution_count": null,
   "metadata": {},
   "outputs": [],
   "source": [
    "for layer in vggmodel.layers[:19]:\n",
    "    layer.trainable = False"
   ]
  },
  {
   "cell_type": "code",
   "execution_count": null,
   "metadata": {},
   "outputs": [
    {
     "name": "stdout",
     "output_type": "stream",
     "text": [
      "Model: \"vgg16\"\n",
      "_________________________________________________________________\n",
      "Layer (type)                 Output Shape              Param #   \n",
      "=================================================================\n",
      "input_1 (InputLayer)         [(None, 256, 256, 3)]     0         \n",
      "_________________________________________________________________\n",
      "block1_conv1 (Conv2D)        (None, 256, 256, 64)      1792      \n",
      "_________________________________________________________________\n",
      "block1_conv2 (Conv2D)        (None, 256, 256, 64)      36928     \n",
      "_________________________________________________________________\n",
      "block1_pool (MaxPooling2D)   (None, 128, 128, 64)      0         \n",
      "_________________________________________________________________\n",
      "block2_conv1 (Conv2D)        (None, 128, 128, 128)     73856     \n",
      "_________________________________________________________________\n",
      "block2_conv2 (Conv2D)        (None, 128, 128, 128)     147584    \n",
      "_________________________________________________________________\n",
      "block2_pool (MaxPooling2D)   (None, 64, 64, 128)       0         \n",
      "_________________________________________________________________\n",
      "block3_conv1 (Conv2D)        (None, 64, 64, 256)       295168    \n",
      "_________________________________________________________________\n",
      "block3_conv2 (Conv2D)        (None, 64, 64, 256)       590080    \n",
      "_________________________________________________________________\n",
      "block3_conv3 (Conv2D)        (None, 64, 64, 256)       590080    \n",
      "_________________________________________________________________\n",
      "block3_pool (MaxPooling2D)   (None, 32, 32, 256)       0         \n",
      "_________________________________________________________________\n",
      "block4_conv1 (Conv2D)        (None, 32, 32, 512)       1180160   \n",
      "_________________________________________________________________\n",
      "block4_conv2 (Conv2D)        (None, 32, 32, 512)       2359808   \n",
      "_________________________________________________________________\n",
      "block4_conv3 (Conv2D)        (None, 32, 32, 512)       2359808   \n",
      "_________________________________________________________________\n",
      "block4_pool (MaxPooling2D)   (None, 16, 16, 512)       0         \n",
      "_________________________________________________________________\n",
      "block5_conv1 (Conv2D)        (None, 16, 16, 512)       2359808   \n",
      "_________________________________________________________________\n",
      "block5_conv2 (Conv2D)        (None, 16, 16, 512)       2359808   \n",
      "_________________________________________________________________\n",
      "block5_conv3 (Conv2D)        (None, 16, 16, 512)       2359808   \n",
      "_________________________________________________________________\n",
      "block5_pool (MaxPooling2D)   (None, 8, 8, 512)         0         \n",
      "=================================================================\n",
      "Total params: 14,714,688\n",
      "Trainable params: 0\n",
      "Non-trainable params: 14,714,688\n",
      "_________________________________________________________________\n"
     ]
    }
   ],
   "source": [
    "vggmodel.summary()"
   ]
  },
  {
   "cell_type": "code",
   "execution_count": null,
   "metadata": {},
   "outputs": [],
   "source": [
    "vggfeatures = []\n",
    "for i, sample in enumerate(X_train):\n",
    "    sample = gray2rgb(sample)\n",
    "    sample = sample.reshape((1,256,256,3))\n",
    "    prediction = vggmodel.predict(sample)\n",
    "    prediction = prediction.reshape((8,8,512))\n",
    "    vggfeatures.append(prediction)\n",
    "vggfeatures = np.array(vggfeatures)"
   ]
  },
  {
   "cell_type": "code",
   "execution_count": null,
   "metadata": {},
   "outputs": [
    {
     "data": {
      "text/plain": [
       "(256, 8, 8, 512)"
      ]
     },
     "execution_count": 13,
     "metadata": {},
     "output_type": "execute_result"
    }
   ],
   "source": [
    "vggfeatures.shape"
   ]
  },
  {
   "cell_type": "code",
   "execution_count": null,
   "metadata": {},
   "outputs": [],
   "source": [
    "encoder_input = Input(shape=(8, 8, 512,))\n",
    "decoder_output = Conv2DTranspose(256, (3,3), activation='relu', padding='same')(encoder_input)\n",
    "decoder_output = Conv2DTranspose(128, (3,3), activation='relu', padding='same')(decoder_output)\n",
    "decoder_output = UpSampling2D((2, 2))(decoder_output)\n",
    "decoder_output = Conv2DTranspose(64, (3,3), activation='relu', padding='same')(decoder_output)\n",
    "decoder_output = UpSampling2D((2, 2))(decoder_output)\n",
    "decoder_output = Conv2DTranspose(32, (3,3), activation='relu', padding='same')(decoder_output)\n",
    "decoder_output = UpSampling2D((2, 2))(decoder_output)\n",
    "decoder_output = Conv2DTranspose(16, (3,3), activation='relu', padding='same')(decoder_output)\n",
    "decoder_output = UpSampling2D((2, 2))(decoder_output)\n",
    "decoder_output = Conv2DTranspose(2, (3, 3), activation='tanh', padding='same')(decoder_output)\n",
    "output = UpSampling2D((2, 2))(decoder_output)"
   ]
  },
  {
   "cell_type": "code",
   "execution_count": null,
   "metadata": {},
   "outputs": [],
   "source": [
    "model = Model(inputs=encoder_input, outputs=output)"
   ]
  },
  {
   "cell_type": "code",
   "execution_count": null,
   "metadata": {
    "scrolled": false
   },
   "outputs": [
    {
     "name": "stdout",
     "output_type": "stream",
     "text": [
      "Model: \"model\"\n",
      "_________________________________________________________________\n",
      "Layer (type)                 Output Shape              Param #   \n",
      "=================================================================\n",
      "input_1 (InputLayer)         [(None, 8, 8, 512)]       0         \n",
      "_________________________________________________________________\n",
      "conv2d_transpose (Conv2DTran (None, 8, 8, 256)         1179904   \n",
      "_________________________________________________________________\n",
      "conv2d_transpose_1 (Conv2DTr (None, 8, 8, 128)         295040    \n",
      "_________________________________________________________________\n",
      "up_sampling2d (UpSampling2D) (None, 16, 16, 128)       0         \n",
      "_________________________________________________________________\n",
      "conv2d_transpose_2 (Conv2DTr (None, 16, 16, 64)        73792     \n",
      "_________________________________________________________________\n",
      "up_sampling2d_1 (UpSampling2 (None, 32, 32, 64)        0         \n",
      "_________________________________________________________________\n",
      "conv2d_transpose_3 (Conv2DTr (None, 32, 32, 32)        18464     \n",
      "_________________________________________________________________\n",
      "up_sampling2d_2 (UpSampling2 (None, 64, 64, 32)        0         \n",
      "_________________________________________________________________\n",
      "conv2d_transpose_4 (Conv2DTr (None, 64, 64, 16)        4624      \n",
      "_________________________________________________________________\n",
      "up_sampling2d_3 (UpSampling2 (None, 128, 128, 16)      0         \n",
      "_________________________________________________________________\n",
      "conv2d_transpose_5 (Conv2DTr (None, 128, 128, 2)       290       \n",
      "_________________________________________________________________\n",
      "up_sampling2d_4 (UpSampling2 (None, 256, 256, 2)       0         \n",
      "=================================================================\n",
      "Total params: 1,572,114\n",
      "Trainable params: 1,572,114\n",
      "Non-trainable params: 0\n",
      "_________________________________________________________________\n"
     ]
    }
   ],
   "source": [
    "model.summary()"
   ]
  },
  {
   "cell_type": "code",
   "execution_count": null,
   "metadata": {},
   "outputs": [],
   "source": [
    "model.compile(optimizer =Adam(learning_rate = 0.0002), loss='mse' , metrics=['accuracy'])"
   ]
  },
  {
   "cell_type": "code",
   "execution_count": null,
   "metadata": {},
   "outputs": [
    {
     "name": "stdout",
     "output_type": "stream",
     "text": [
      "Epoch 1/30\n",
      "32/32 - 22s - loss: 0.0623 - accuracy: 0.5473\n",
      "Epoch 2/30\n",
      "32/32 - 0s - loss: 0.0089 - accuracy: 0.6626\n",
      "Epoch 3/30\n",
      "32/32 - 0s - loss: 0.0080 - accuracy: 0.6732\n",
      "Epoch 4/30\n",
      "32/32 - 0s - loss: 0.0077 - accuracy: 0.6893\n",
      "Epoch 5/30\n",
      "32/32 - 0s - loss: 0.0076 - accuracy: 0.6930\n",
      "Epoch 6/30\n",
      "32/32 - 0s - loss: 0.0075 - accuracy: 0.7336\n",
      "Epoch 7/30\n",
      "32/32 - 0s - loss: 0.0074 - accuracy: 0.7321\n",
      "Epoch 8/30\n",
      "32/32 - 0s - loss: 0.0074 - accuracy: 0.7481\n",
      "Epoch 9/30\n",
      "32/32 - 0s - loss: 0.0073 - accuracy: 0.7561\n",
      "Epoch 10/30\n",
      "32/32 - 0s - loss: 0.0073 - accuracy: 0.7595\n",
      "Epoch 11/30\n",
      "32/32 - 0s - loss: 0.0073 - accuracy: 0.7654\n",
      "Epoch 12/30\n",
      "32/32 - 0s - loss: 0.0072 - accuracy: 0.7654\n",
      "Epoch 13/30\n",
      "32/32 - 0s - loss: 0.0072 - accuracy: 0.7715\n",
      "Epoch 14/30\n",
      "32/32 - 0s - loss: 0.0071 - accuracy: 0.7717\n",
      "Epoch 15/30\n",
      "32/32 - 0s - loss: 0.0070 - accuracy: 0.7685\n",
      "Epoch 16/30\n",
      "32/32 - 0s - loss: 0.0068 - accuracy: 0.7739\n",
      "Epoch 17/30\n",
      "32/32 - 0s - loss: 0.0067 - accuracy: 0.7650\n",
      "Epoch 18/30\n",
      "32/32 - 0s - loss: 0.0065 - accuracy: 0.7708\n",
      "Epoch 19/30\n",
      "32/32 - 0s - loss: 0.0062 - accuracy: 0.7668\n",
      "Epoch 20/30\n",
      "32/32 - 0s - loss: 0.0059 - accuracy: 0.7662\n",
      "Epoch 21/30\n",
      "32/32 - 0s - loss: 0.0056 - accuracy: 0.7546\n",
      "Epoch 22/30\n",
      "32/32 - 0s - loss: 0.0054 - accuracy: 0.6765\n",
      "Epoch 23/30\n",
      "32/32 - 0s - loss: 0.0052 - accuracy: 0.6120\n",
      "Epoch 24/30\n",
      "32/32 - 0s - loss: 0.0050 - accuracy: 0.5853\n",
      "Epoch 25/30\n",
      "32/32 - 0s - loss: 0.0048 - accuracy: 0.5563\n",
      "Epoch 26/30\n",
      "32/32 - 0s - loss: 0.0046 - accuracy: 0.5554\n",
      "Epoch 27/30\n",
      "32/32 - 0s - loss: 0.0044 - accuracy: 0.5201\n",
      "Epoch 28/30\n",
      "32/32 - 0s - loss: 0.0042 - accuracy: 0.5162\n",
      "Epoch 29/30\n",
      "32/32 - 0s - loss: 0.0041 - accuracy: 0.5002\n",
      "Epoch 30/30\n",
      "32/32 - 0s - loss: 0.0039 - accuracy: 0.4838\n"
     ]
    },
    {
     "data": {
      "text/plain": [
       "<keras.callbacks.History at 0x21298dc1fd0>"
      ]
     },
     "execution_count": 18,
     "metadata": {},
     "output_type": "execute_result"
    }
   ],
   "source": [
    "model.fit(vggfeatures, y_train, batch_size=8, epochs=30, verbose= 2)"
   ]
  },
  {
   "cell_type": "code",
   "execution_count": null,
   "metadata": {},
   "outputs": [],
   "source": [
    "img1_color = []\n",
    "\n",
    "path = \"C://Users/Soumyajit/Downloads/Auto Encoder/test11.jpg\"\n",
    "\n",
    "img = img_to_array(load_img(path))\n",
    "img = resize(img, (256,256), anti_aliasing=True)\n",
    "img*= 1.0/255\n",
    "\n",
    "plt.title(\"Input Image\")\n",
    "imshow(img)\n",
    "plt.axis('off')\n",
    "plt.show()"
   ]
  },
  {
   "cell_type": "code",
   "execution_count": null,
   "metadata": {},
   "outputs": [],
   "source": [
    "lab = rgb2lab(img)\n",
    "l = lab[:,:,0]\n",
    "L = gray2rgb(l)\n",
    "L = L.reshape((1,256,256,3))"
   ]
  },
  {
   "cell_type": "code",
   "execution_count": null,
   "metadata": {},
   "outputs": [],
   "source": [
    "output = vggmodel.predict(L)\n",
    "ab = model.predict(output)\n",
    "ab = ab * 128"
   ]
  },
  {
   "cell_type": "code",
   "execution_count": null,
   "metadata": {},
   "outputs": [],
   "source": [
    "cur = np.zeros((256, 256, 3))\n",
    "cur[:,:,0] = l\n",
    "cur[:,:,1:] = ab"
   ]
  },
  {
   "cell_type": "code",
   "execution_count": null,
   "metadata": {},
   "outputs": [],
   "source": [
    "imshow(lab2rgb(cur))"
   ]
  }
 ],
 "metadata": {
  "kernelspec": {
   "display_name": "base",
   "language": "python",
   "name": "python3"
  },
  "language_info": {
   "codemirror_mode": {
    "name": "ipython",
    "version": 3
   },
   "file_extension": ".py",
   "mimetype": "text/x-python",
   "name": "python",
   "nbconvert_exporter": "python",
   "pygments_lexer": "ipython3",
   "version": "3.12.7"
  }
 },
 "nbformat": 4,
 "nbformat_minor": 4
}
